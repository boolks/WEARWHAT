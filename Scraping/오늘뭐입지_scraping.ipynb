{
 "cells": [
  {
   "cell_type": "code",
   "execution_count": 93,
   "metadata": {},
   "outputs": [],
   "source": [
    "import bs4\n",
    "from bs4 import BeautifulSoup\n",
    "import requests\n",
    "from urllib.parse import urljoin\n",
    "import re\n",
    "\n",
    "url = 'https://store.musinsa.com/app/items/lists/001001'\n",
    "htp = 'https://store.musinsa.com/'\n",
    "res = requests.get(url)\n",
    "html = res.text\n",
    "bs = BeautifulSoup(html, 'html.parser')\n",
    "tag_lists = bs.select('.li_box .li_inner')\n",
    "\n",
    "page_lists = []\n",
    "for tag in tag_lists:\n",
    "    dict_lists = {}\n",
    "\n",
    "    # 개별 페이지 링크 파싱\n",
    "    tmp_lists = tag.select('.list_img a')\n",
    "    for tmp in tmp_lists:\n",
    "        link = urljoin(htp, tmp['href'])\n",
    "        dict_lists['link'] = link\n",
    "    # 이름 파싱\n",
    "    article_lists = tag.select('.article_info .list_info a')\n",
    "    for article in article_lists:\n",
    "        #print(name.text.strip())\n",
    "        dict_lists['article'] = article.text.strip()\n",
    "    page_lists.append(dict_lists)\n"
   ]
  },
  {
   "cell_type": "code",
   "execution_count": 167,
   "metadata": {},
   "outputs": [
    {
     "data": {
      "text/plain": [
       "[{'title': '[패키지] NYC LOCATION T-SHIRT (10 COLORS) [GTS721I23]',\n",
       "  'season': 'S/S',\n",
       "  'gender': '남',\n",
       "  'color': '기타'},\n",
       " {'title': '릴렉스 핏 크루 넥 반팔 티셔츠 [블랙]',\n",
       "  'season': 'ALL',\n",
       "  'gender': '남',\n",
       "  'color': '검정색'},\n",
       " {'title': '릴렉스 핏 크루 넥 반팔 티셔츠 [화이트]',\n",
       "  'season': 'ALL',\n",
       "  'gender': '남',\n",
       "  'color': '흰색'},\n",
       " {'title': 'LMC THREE BEARS TEE white',\n",
       "  'season': 'S/S',\n",
       "  'gender': '남',\n",
       "  'color': '흰색'},\n",
       " {'title': 'S/S AUTHENTIC LOGO TEE WHITE',\n",
       "  'season': 'S/S',\n",
       "  'gender': '남',\n",
       "  'color': '흰색'}]"
      ]
     },
     "execution_count": 167,
     "metadata": {},
     "output_type": "execute_result"
    }
   ],
   "source": [
    "# 상세 페이지 검색\n",
    "cloth_lists = []\n",
    "for page in page_lists[0:5]:\n",
    "    link  = page['link']\n",
    "    d_res = requests.get(link)\n",
    "    d_html = d_res.text\n",
    "    d_bs = BeautifulSoup(d_html, 'html.parser')\n",
    "    cloth_dict = {}\n",
    "    \n",
    "    # 옷 이름 파싱\n",
    "    title = d_bs.select('div.right_contents span.product_title > span')[0].text\n",
    "    cloth_dict['title'] = title\n",
    "    \n",
    "    # season, gender 태그 파싱\n",
    "    detail_lists = d_bs.select('ul.product_article li p.product_article_contents')\n",
    "    detail_list = []\n",
    "    for idx, detail in enumerate(detail_lists[1]):\n",
    "        detail_dict = {}\n",
    "        if isinstance(detail, bs4.element.Tag):\n",
    "            content = detail.text\n",
    "            content = content.replace(' ','')\n",
    "            content = content.replace('\\t', '')\n",
    "            matched = re.search(r'(\\D+)', content)\n",
    "            val = matched.group(1)\n",
    "            # print(idx, val.strip())\n",
    "            if idx == 1:\n",
    "                cloth_dict['season'] = val.strip()\n",
    "            elif idx == 5:\n",
    "                cloth_dict['gender'] = val.strip()\n",
    "            else:\n",
    "                continue\n",
    " \n",
    "    # 옷 색깔 파싱\n",
    "    color = d_bs.select('div.product_info_table > table > tbody > tr > td')[0].text.strip()\n",
    "    cloth_dict['color'] = color\n",
    "    \n",
    "    # 옷 정보 리스트에 추가\n",
    "    cloth_lists.append(cloth_dict)\n",
    "\n",
    "cloth_lists"
   ]
  },
  {
   "cell_type": "code",
   "execution_count": null,
   "metadata": {},
   "outputs": [],
   "source": [
    "# DataFrame 저장\n",
    "import "
   ]
  }
 ],
 "metadata": {
  "kernelspec": {
   "display_name": "Python 3",
   "language": "python",
   "name": "python3"
  },
  "language_info": {
   "codemirror_mode": {
    "name": "ipython",
    "version": 3
   },
   "file_extension": ".py",
   "mimetype": "text/x-python",
   "name": "python",
   "nbconvert_exporter": "python",
   "pygments_lexer": "ipython3",
   "version": "3.7.8"
  }
 },
 "nbformat": 4,
 "nbformat_minor": 4
}
